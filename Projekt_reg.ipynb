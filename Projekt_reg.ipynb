{
 "cells": [
  {
   "cell_type": "code",
   "execution_count": 1,
   "id": "3d2f929f",
   "metadata": {},
   "outputs": [],
   "source": [
    "import numpy as np\n",
    "import pandas as pd "
   ]
  },
  {
   "cell_type": "markdown",
   "id": "c18a686c",
   "metadata": {},
   "source": [
    "# <center> Wczytywanie danych </center>"
   ]
  },
  {
   "cell_type": "code",
   "execution_count": 2,
   "id": "bbb68605",
   "metadata": {},
   "outputs": [
    {
     "name": "stdout",
     "output_type": "stream",
     "text": [
      "(26409, 51)\n",
      "(26834, 51) \n",
      "\n",
      "<bound method NDFrame.head of            gameId  blueWins  blueTotalGolds  blueCurrentGolds  blueTotalLevel  \\\n",
      "0      4247263043         0           14870              2889              32   \n",
      "1      4247155821         1           14497              2617              33   \n",
      "2      4243963257         0           15617              1757              34   \n",
      "3      4241678498         0           15684              1439              35   \n",
      "4      4241538868         1           17472              3512              35   \n",
      "...           ...       ...             ...               ...             ...   \n",
      "26404  4143231833         0           16762              5072              36   \n",
      "26405  4157911901         0           35765              1440              39   \n",
      "26406  3764171638         0           15712              4137              34   \n",
      "26407  4110201724         1           15850              3220              33   \n",
      "26408  4100240254         1           16103              3128              34   \n",
      "\n",
      "       blueAvgLevel  blueTotalMinionKills  blueTotalJungleMinionKills  \\\n",
      "0               6.4                   199                          53   \n",
      "1               6.6                   229                          44   \n",
      "2               6.8                   223                          39   \n",
      "3               7.0                   251                          64   \n",
      "4               7.0                   257                          46   \n",
      "...             ...                   ...                         ...   \n",
      "26404           7.2                   206                          52   \n",
      "26405           7.8                   191                          16   \n",
      "26406           6.8                   218                          55   \n",
      "26407           6.6                   193                          48   \n",
      "26408           6.8                   255                          44   \n",
      "\n",
      "       blueFirstBlood  blueKill  ...  redFirstTowerLane  redTowerKills  \\\n",
      "0                   0         3  ...                 []              0   \n",
      "1                   0         2  ...                 []              0   \n",
      "2                   0         3  ...       ['BOT_LANE']              1   \n",
      "3                   0         3  ...                 []              0   \n",
      "4                   0         7  ...                 []              0   \n",
      "...               ...       ...  ...                ...            ...   \n",
      "26404               0         7  ...                 []              0   \n",
      "26405               0        18  ...                 []              3   \n",
      "26406               0         3  ...                 []              0   \n",
      "26407               0         6  ...                 []              0   \n",
      "26408               0         3  ...                 []              0   \n",
      "\n",
      "       redMidTowerKills  redTopTowerKills  redBotTowerKills  redInhibitor  \\\n",
      "0                     0                 0                 0             0   \n",
      "1                     0                 0                 0             0   \n",
      "2                     0                 0                 1             0   \n",
      "3                     0                 0                 0             0   \n",
      "4                     0                 0                 0             0   \n",
      "...                 ...               ...               ...           ...   \n",
      "26404                 0                 0                 0             0   \n",
      "26405                 1                 0                 2             0   \n",
      "26406                 0                 0                 0             0   \n",
      "26407                 0                 0                 0             0   \n",
      "26408                 0                 0                 0             0   \n",
      "\n",
      "      redFirstDragon     redDragnoType  redDragon  redRiftHeralds  \n",
      "0                  1  ['WATER_DRAGON']          1               0  \n",
      "1                  0                []          0               0  \n",
      "2                  1   ['FIRE_DRAGON']          1               1  \n",
      "3                  0                []          0               0  \n",
      "4                  0                []          0               0  \n",
      "...              ...               ...        ...             ...  \n",
      "26404              1  ['WATER_DRAGON']          1               1  \n",
      "26405              0                []          0               0  \n",
      "26406              0                []          0               0  \n",
      "26407              0                []          0               0  \n",
      "26408              1  ['WATER_DRAGON']          1               0  \n",
      "\n",
      "[26409 rows x 51 columns]> \n",
      "\n",
      "<bound method NDFrame.head of            gameId  blueWins  blueTotalGolds  blueCurrentGolds  blueTotalLevel  \\\n",
      "0      4247263043         0           24081              1190              44   \n",
      "1      4247155821         1           24162              2212              46   \n",
      "2      4243963257         0           22413              1563              41   \n",
      "3      4241678498         0           23837              3197              46   \n",
      "4      4241538868         1           27688              3663              44   \n",
      "...           ...       ...             ...               ...             ...   \n",
      "26829  4143231833         0           26110              1535              46   \n",
      "26830  4157911901         0           57503              3293              62   \n",
      "26831  3764171638         0           26091              2986              47   \n",
      "26832  4110201724         1           24734              4289              45   \n",
      "26833  4100240254         1           27507              5647              45   \n",
      "\n",
      "       blueAvgLevel  blueTotalMinionKills  blueTotalJungleMinionKills  \\\n",
      "0               8.8                   309                          74   \n",
      "1               9.2                   393                          64   \n",
      "2               8.2                   300                          62   \n",
      "3               9.2                   370                          96   \n",
      "4               8.8                   381                          66   \n",
      "...             ...                   ...                         ...   \n",
      "26829           9.2                   289                          73   \n",
      "26830          12.4                   329                          28   \n",
      "26831           9.4                   338                          86   \n",
      "26832           9.0                   328                          64   \n",
      "26833           9.0                   377                          85   \n",
      "\n",
      "       blueFirstBlood  blueKill  ...  redFirstTowerLane  redTowerKills  \\\n",
      "0                   0         8  ...       ['MID_LANE']              2   \n",
      "1                   0         5  ...       ['TOP_LANE']              1   \n",
      "2                   0         5  ...       ['BOT_LANE']              4   \n",
      "3                   0         6  ...       ['TOP_LANE']              1   \n",
      "4                   0         9  ...       ['BOT_LANE']              2   \n",
      "...               ...       ...  ...                ...            ...   \n",
      "26829               0        15  ...       ['BOT_LANE']              1   \n",
      "26830               0        27  ...                 []              6   \n",
      "26831               0         7  ...                 []              0   \n",
      "26832               0        11  ...       ['BOT_LANE']              1   \n",
      "26833               0         8  ...                 []              0   \n",
      "\n",
      "       redMidTowerKills  redTopTowerKills  redBotTowerKills  redInhibitor  \\\n",
      "0                     1                 0                 1             0   \n",
      "1                     0                 1                 0             0   \n",
      "2                     2                 1                 1             0   \n",
      "3                     0                 1                 0             0   \n",
      "4                     1                 0                 1             0   \n",
      "...                 ...               ...               ...           ...   \n",
      "26829                 0                 0                 1             0   \n",
      "26830                 2                 1                 3             1   \n",
      "26831                 0                 0                 0             0   \n",
      "26832                 0                 0                 1             0   \n",
      "26833                 0                 0                 0             0   \n",
      "\n",
      "      redFirstDragon                     redDragnoType  redDragon  \\\n",
      "0                  1  ['WATER_DRAGON', 'EARTH_DRAGON']          2   \n",
      "1                  0                                []          0   \n",
      "2                  1   ['FIRE_DRAGON', 'EARTH_DRAGON']          2   \n",
      "3                  0                                []          0   \n",
      "4                  0                                []          0   \n",
      "...              ...                               ...        ...   \n",
      "26829              1                  ['WATER_DRAGON']          1   \n",
      "26830              0                                []          0   \n",
      "26831              0                                []          0   \n",
      "26832              0                    ['AIR_DRAGON']          1   \n",
      "26833              1                  ['WATER_DRAGON']          1   \n",
      "\n",
      "       redRiftHeralds  \n",
      "0                   1  \n",
      "1                   0  \n",
      "2                   1  \n",
      "3                   1  \n",
      "4                   0  \n",
      "...               ...  \n",
      "26829               1  \n",
      "26830               0  \n",
      "26831               0  \n",
      "26832               0  \n",
      "26833               0  \n",
      "\n",
      "[26834 rows x 51 columns]>\n"
     ]
    }
   ],
   "source": [
    "df10=pd.read_csv('Challenger_Ranked_Games_10minute.csv')\n",
    "df15=pd.read_csv('Challenger_Ranked_Games_15minute.csv')\n",
    "\n",
    "print(df10.shape)\n",
    "print(df15.shape,\"\\n\")\n",
    "print(df10.head,\"\\n\")\n",
    "print(df15.head)"
   ]
  },
  {
   "cell_type": "markdown",
   "id": "9d65fd68",
   "metadata": {},
   "source": [
    "<br><br><br>\n",
    "# <center> Przygotowanie danych </center>"
   ]
  },
  {
   "cell_type": "markdown",
   "id": "d9a5c3c6",
   "metadata": {},
   "source": [
    "Pozbywamy się zbędnych kolumn:<br>\n",
    "-blueAvgLevel: jest równa blueTotalLevel/5<br>\n",
    "-blueFirstTowerLane: kolumna tekstowa<br>\n",
    "-blueTowerKills: równa blueTopTowerKills+blueMidTowerKills+blueBotTowerKills<br>\n",
    "-blueFirstDragon: w 10 minucie równa blueDragon<br>\n",
    "-blueDragnoType: kolumna tekstowa<br>\n",
    "-redWins: równa 1-blueWins<br>\n",
    "-redAvgLevel: równa redTotalLevel/5<br>\n",
    "-redFirstTowerLane: kolumna tekstowa<br>\n",
    "-redTowerKills: równa redTopTowerKills+redMidTowerKills+redBotTowerKills<br>\n",
    "-redFirstDragon: w 10 minucie równa redDragon<br>\n",
    "-redDragnoType: kolumna tekstowa<br>\n",
    "-blueFirstBlood: zawsze równa 0<br>\n",
    "-redFirstBlood: zawsze równa 0<br><br><br>\n",
    "\n",
    "Pozbywamy się potencjalnie błędnych wierszy:<br>\n",
    "-w zbiorze danych z 10 minuty zdarzało się, że suma wartości blueDragon i redDragon była większa niż 1, co jest niemożliwe, ponieważ smok pojawia się po 5 minutach i odradza się co 5. Analogicznie ze zbioru danych z 15 minuty usuwamy dane z sumą tych kolumn większą niż 2<br>\n",
    "-w zbiorze danych z 15 minuty zdarzało się, że wartość blueCurrentGolds lub redCurrentGolds była o wiele mniejsza od 0, co również jest niemożliwe (niewielkie wartości poniżej 0 są możliwe dzięki runie \"Future's market\")<br>\n",
    "-gameId czasami się powtarzało"
   ]
  },
  {
   "cell_type": "code",
   "execution_count": 3,
   "id": "a230da26",
   "metadata": {},
   "outputs": [
    {
     "name": "stdout",
     "output_type": "stream",
     "text": [
      "(26159, 38)\n",
      "(26475, 51)\n"
     ]
    }
   ],
   "source": [
    "drop_list=['blueAvgLevel','blueFirstTowerLane','blueTowerKills','blueFirstDragon','blueDragnoType','redWins','redAvgLevel','redFirstTowerLane','redTowerKills','redFirstDragon','redDragnoType','blueFirstBlood','redFirstBlood']\n",
    "df10=df10.drop(drop_list,axis=1)\n",
    "\n",
    "df10=df10[df10['blueDragon']+df10['redDragon']<2]\n",
    "df15=df15[df15['blueDragon']+df15['redDragon']<3]\n",
    "\n",
    "df15=df15[df15['blueCurrentGolds']>-1000]\n",
    "df15=df15[df15['redCurrentGolds']>-1000]\n",
    "\n",
    "df10=df10.drop_duplicates(subset=[\"gameId\"], keep=False)\n",
    "df15=df15.drop_duplicates(subset=[\"gameId\"], keep=False)\n",
    "\n",
    "print(df10.shape)\n",
    "print(df15.shape)\n"
   ]
  },
  {
   "cell_type": "markdown",
   "id": "195276c4",
   "metadata": {},
   "source": [
    "Tworzymy dataframe'a dfGoldDiff15 złożonego z dataframe'a z 10 minuty i kolumny 'goldDifferenceAt15' z dataframe'a z 15 minuty.<br>\n",
    "Usuwamy kolumnę gameId jako niepredykcyjną oraz blueWins jako informację z przyszłości"
   ]
  },
  {
   "cell_type": "code",
   "execution_count": 4,
   "id": "cbe8b027",
   "metadata": {},
   "outputs": [
    {
     "name": "stdout",
     "output_type": "stream",
     "text": [
      "(25963, 36)\n",
      "(25963,)\n"
     ]
    }
   ],
   "source": [
    "df_pom=df15[['gameId','blueTotalGolds','redTotalGolds']]\n",
    "df_pom=df_pom.assign(goldDifferenceAt15=df_pom['blueTotalGolds']-df_pom['redTotalGolds'])\n",
    "dfGoldDiff15=pd.merge(df10,df_pom[['gameId','goldDifferenceAt15']],how='inner',on='gameId')\n",
    "dfGoldDiff15=dfGoldDiff15.drop(['gameId','blueWins'],axis=1)\n",
    "\n",
    "X = dfGoldDiff15.drop([\"goldDifferenceAt15\"],axis=1)\n",
    "y = dfGoldDiff15[\"goldDifferenceAt15\"]\n",
    "print(X.shape)\n",
    "print(y.shape)"
   ]
  },
  {
   "cell_type": "markdown",
   "id": "b535e0c7",
   "metadata": {},
   "source": [
    "<br><br><br>\n",
    "# <center> Wizulalizacja danych </center>"
   ]
  },
  {
   "cell_type": "code",
   "execution_count": 5,
   "id": "3db3ec9f",
   "metadata": {},
   "outputs": [
    {
     "data": {
      "image/png": "[encoded data removed]",
      "text/plain": [
       "<Figure size 432x288 with 2 Axes>"
      ]
     },
     "metadata": {
      "needs_background": "light"
     },
     "output_type": "display_data"
    },
    {
     "data": {
      "image/png": "[encoded data removed]",
      "text/plain": [
       "<Figure size 432x288 with 2 Axes>"
      ]
     },
     "metadata": {
      "needs_background": "light"
     },
     "output_type": "display_data"
    },
    {
     "data": {
      "image/png": "[encoded data removed]",
      "text/plain": [
       "<Figure size 432x288 with 2 Axes>"
      ]
     },
     "metadata": {
      "needs_background": "light"
     },
     "output_type": "display_data"
    },
    {
     "data": {
      "image/png": "[encoded data removed]",
      "text/plain": [
       "<Figure size 432x288 with 2 Axes>"
      ]
     },
     "metadata": {
      "needs_background": "light"
     },
     "output_type": "display_data"
    }
   ],
   "source": [
    "import seaborn as sns\n",
    "import matplotlib.pyplot as plt\n",
    "heat1=dfGoldDiff15[dfGoldDiff15.keys()[0:9].append(dfGoldDiff15.keys()[36:37])]\n",
    "heat2=dfGoldDiff15[dfGoldDiff15.keys()[9:18].append(dfGoldDiff15.keys()[36:37])]\n",
    "heat3=dfGoldDiff15[dfGoldDiff15.keys()[18:27].append(dfGoldDiff15.keys()[36:37])]\n",
    "heat4=dfGoldDiff15[dfGoldDiff15.keys()[27:37]]\n",
    "sns.heatmap(heat1.corr().loc[['goldDifferenceAt15'],:], annot=True)\n",
    "plt.show()\n",
    "sns.heatmap(heat2.corr().loc[['goldDifferenceAt15'],:], annot=True)\n",
    "plt.show()\n",
    "sns.heatmap(heat3.corr().loc[['goldDifferenceAt15'],:], annot=True)\n",
    "plt.show()\n",
    "sns.heatmap(heat4.corr().loc[['goldDifferenceAt15'],:], annot=True)\n",
    "plt.show()"
   ]
  },
  {
   "cell_type": "markdown",
   "id": "c2464ba9",
   "metadata": {},
   "source": [
    "<br><br><br>\n",
    "# <center> Regresja </center>"
   ]
  },
  {
   "cell_type": "code",
   "execution_count": 8,
   "id": "93d892bd",
   "metadata": {},
   "outputs": [],
   "source": [
    "from sklearn import model_selection\n",
    "from sklearn.model_selection import train_test_split\n",
    "from sklearn.model_selection import GridSearchCV\n",
    "from sklearn import linear_model\n",
    "from sklearn.preprocessing import PolynomialFeatures\n",
    "from sklearn.linear_model import Ridge\n",
    "from sklearn.linear_model import Lasso\n",
    "from sklearn.linear_model import ElasticNet\n",
    "from sklearn.svm import SVR\n",
    "from sklearn.ensemble import RandomForestRegressor\n",
    "from sklearn.pipeline import make_pipeline\n",
    "from sklearn import metrics\n",
    "from timeit import default_timer as timer\n",
    "\n",
    "seed=123\n",
    "kfold = model_selection.KFold(n_splits=5)"
   ]
  },
  {
   "cell_type": "code",
   "execution_count": 7,
   "id": "683abf71",
   "metadata": {},
   "outputs": [],
   "source": [
    "X_train, X_test , y_train, y_test = train_test_split(X,y,test_size=0.20)"
   ]
  },
  {
   "cell_type": "code",
   "execution_count": 8,
   "id": "5a86435d",
   "metadata": {},
   "outputs": [
    {
     "name": "stdout",
     "output_type": "stream",
     "text": [
      "Stored 'X_train' (DataFrame)\n",
      "Stored 'X_test' (DataFrame)\n",
      "Stored 'y_train' (Series)\n",
      "Stored 'y_test' (Series)\n"
     ]
    }
   ],
   "source": [
    "%store X_train\n",
    "%store X_test\n",
    "%store y_train\n",
    "%store y_test"
   ]
  },
  {
   "cell_type": "code",
   "execution_count": 6,
   "id": "3527e53e",
   "metadata": {},
   "outputs": [],
   "source": [
    "%store -r X_train\n",
    "%store -r X_test\n",
    "%store -r y_train\n",
    "%store -r y_test"
   ]
  },
  {
   "cell_type": "code",
   "execution_count": 9,
   "id": "0d9b8bd5",
   "metadata": {},
   "outputs": [
    {
     "name": "stdout",
     "output_type": "stream",
     "text": [
      "2536.497104\n",
      "Stored 'grid_1' (GridSearchCV)\n"
     ]
    }
   ],
   "source": [
    "start = timer()\n",
    "grid_1 = GridSearchCV(make_pipeline(PolynomialFeatures(degree=2), linear_model.LinearRegression()),\n",
    "                    param_grid={'polynomialfeatures__degree': [1, 2, 3]},\n",
    "                    cv=kfold,\n",
    "                    refit=True)\n",
    "grid_1.fit(X_train, y_train)\n",
    "end = timer()\n",
    "print(end - start)\n",
    "%store grid_1"
   ]
  },
  {
   "cell_type": "code",
   "execution_count": 16,
   "id": "e1746861",
   "metadata": {},
   "outputs": [
    {
     "name": "stderr",
     "output_type": "stream",
     "text": [
      "C:\\Users\\Bloczek\\anaconda3\\envs\\tf\\lib\\site-packages\\sklearn\\linear_model\\_ridge.py:212: LinAlgWarning: Ill-conditioned matrix (rcond=1.52617e-23): result may not be accurate.\n",
      "  return linalg.solve(A, Xy, sym_pos=True, overwrite_a=True).T\n",
      "C:\\Users\\Bloczek\\anaconda3\\envs\\tf\\lib\\site-packages\\sklearn\\linear_model\\_ridge.py:212: LinAlgWarning: Ill-conditioned matrix (rcond=1.52935e-23): result may not be accurate.\n",
      "  return linalg.solve(A, Xy, sym_pos=True, overwrite_a=True).T\n",
      "C:\\Users\\Bloczek\\anaconda3\\envs\\tf\\lib\\site-packages\\sklearn\\linear_model\\_ridge.py:212: LinAlgWarning: Ill-conditioned matrix (rcond=1.53023e-23): result may not be accurate.\n",
      "  return linalg.solve(A, Xy, sym_pos=True, overwrite_a=True).T\n",
      "C:\\Users\\Bloczek\\anaconda3\\envs\\tf\\lib\\site-packages\\sklearn\\linear_model\\_ridge.py:212: LinAlgWarning: Ill-conditioned matrix (rcond=1.52309e-23): result may not be accurate.\n",
      "  return linalg.solve(A, Xy, sym_pos=True, overwrite_a=True).T\n",
      "C:\\Users\\Bloczek\\anaconda3\\envs\\tf\\lib\\site-packages\\sklearn\\linear_model\\_ridge.py:212: LinAlgWarning: Ill-conditioned matrix (rcond=1.48612e-23): result may not be accurate.\n",
      "  return linalg.solve(A, Xy, sym_pos=True, overwrite_a=True).T\n",
      "C:\\Users\\Bloczek\\anaconda3\\envs\\tf\\lib\\site-packages\\sklearn\\linear_model\\_ridge.py:212: LinAlgWarning: Ill-conditioned matrix (rcond=1.41683e-22): result may not be accurate.\n",
      "  return linalg.solve(A, Xy, sym_pos=True, overwrite_a=True).T\n",
      "C:\\Users\\Bloczek\\anaconda3\\envs\\tf\\lib\\site-packages\\sklearn\\linear_model\\_ridge.py:212: LinAlgWarning: Ill-conditioned matrix (rcond=1.42826e-22): result may not be accurate.\n",
      "  return linalg.solve(A, Xy, sym_pos=True, overwrite_a=True).T\n",
      "C:\\Users\\Bloczek\\anaconda3\\envs\\tf\\lib\\site-packages\\sklearn\\linear_model\\_ridge.py:212: LinAlgWarning: Ill-conditioned matrix (rcond=1.4678e-22): result may not be accurate.\n",
      "  return linalg.solve(A, Xy, sym_pos=True, overwrite_a=True).T\n",
      "C:\\Users\\Bloczek\\anaconda3\\envs\\tf\\lib\\site-packages\\sklearn\\linear_model\\_ridge.py:212: LinAlgWarning: Ill-conditioned matrix (rcond=1.40634e-22): result may not be accurate.\n",
      "  return linalg.solve(A, Xy, sym_pos=True, overwrite_a=True).T\n",
      "C:\\Users\\Bloczek\\anaconda3\\envs\\tf\\lib\\site-packages\\sklearn\\linear_model\\_ridge.py:212: LinAlgWarning: Ill-conditioned matrix (rcond=1.45781e-22): result may not be accurate.\n",
      "  return linalg.solve(A, Xy, sym_pos=True, overwrite_a=True).T\n",
      "C:\\Users\\Bloczek\\anaconda3\\envs\\tf\\lib\\site-packages\\sklearn\\linear_model\\_ridge.py:212: LinAlgWarning: Ill-conditioned matrix (rcond=1.677e-21): result may not be accurate.\n",
      "  return linalg.solve(A, Xy, sym_pos=True, overwrite_a=True).T\n",
      "C:\\Users\\Bloczek\\anaconda3\\envs\\tf\\lib\\site-packages\\sklearn\\linear_model\\_ridge.py:212: LinAlgWarning: Ill-conditioned matrix (rcond=1.74769e-21): result may not be accurate.\n",
      "  return linalg.solve(A, Xy, sym_pos=True, overwrite_a=True).T\n",
      "C:\\Users\\Bloczek\\anaconda3\\envs\\tf\\lib\\site-packages\\sklearn\\linear_model\\_ridge.py:212: LinAlgWarning: Ill-conditioned matrix (rcond=1.40351e-21): result may not be accurate.\n",
      "  return linalg.solve(A, Xy, sym_pos=True, overwrite_a=True).T\n",
      "C:\\Users\\Bloczek\\anaconda3\\envs\\tf\\lib\\site-packages\\sklearn\\linear_model\\_ridge.py:212: LinAlgWarning: Ill-conditioned matrix (rcond=1.42453e-21): result may not be accurate.\n",
      "  return linalg.solve(A, Xy, sym_pos=True, overwrite_a=True).T\n",
      "C:\\Users\\Bloczek\\anaconda3\\envs\\tf\\lib\\site-packages\\sklearn\\linear_model\\_ridge.py:212: LinAlgWarning: Ill-conditioned matrix (rcond=1.81099e-21): result may not be accurate.\n",
      "  return linalg.solve(A, Xy, sym_pos=True, overwrite_a=True).T\n",
      "C:\\Users\\Bloczek\\anaconda3\\envs\\tf\\lib\\site-packages\\sklearn\\linear_model\\_ridge.py:212: LinAlgWarning: Ill-conditioned matrix (rcond=1.70463e-20): result may not be accurate.\n",
      "  return linalg.solve(A, Xy, sym_pos=True, overwrite_a=True).T\n",
      "C:\\Users\\Bloczek\\anaconda3\\envs\\tf\\lib\\site-packages\\sklearn\\linear_model\\_ridge.py:212: LinAlgWarning: Ill-conditioned matrix (rcond=1.48455e-20): result may not be accurate.\n",
      "  return linalg.solve(A, Xy, sym_pos=True, overwrite_a=True).T\n",
      "C:\\Users\\Bloczek\\anaconda3\\envs\\tf\\lib\\site-packages\\sklearn\\linear_model\\_ridge.py:212: LinAlgWarning: Ill-conditioned matrix (rcond=1.43812e-20): result may not be accurate.\n",
      "  return linalg.solve(A, Xy, sym_pos=True, overwrite_a=True).T\n",
      "C:\\Users\\Bloczek\\anaconda3\\envs\\tf\\lib\\site-packages\\sklearn\\linear_model\\_ridge.py:212: LinAlgWarning: Ill-conditioned matrix (rcond=1.42877e-20): result may not be accurate.\n",
      "  return linalg.solve(A, Xy, sym_pos=True, overwrite_a=True).T\n",
      "C:\\Users\\Bloczek\\anaconda3\\envs\\tf\\lib\\site-packages\\sklearn\\linear_model\\_ridge.py:212: LinAlgWarning: Ill-conditioned matrix (rcond=1.4174e-20): result may not be accurate.\n",
      "  return linalg.solve(A, Xy, sym_pos=True, overwrite_a=True).T\n"
     ]
    },
    {
     "name": "stdout",
     "output_type": "stream",
     "text": [
      "14052.224403400003\n",
      "Stored 'grid_2' (GridSearchCV)\n"
     ]
    }
   ],
   "source": [
    "start = timer()\n",
    "grid_2 = GridSearchCV(make_pipeline(PolynomialFeatures(degree=2), Ridge(alpha=1, random_state=seed)),\n",
    "                    param_grid={'polynomialfeatures__degree': [1, 2, 3],\n",
    "                    'ridge__alpha': [0.1, 1, 10, 100]},\n",
    "                    cv=kfold,\n",
    "                    refit=True)\n",
    "grid_2.fit(X_train, y_train)\n",
    "end = timer()\n",
    "print(end - start)\n",
    "%store grid_2"
   ]
  },
  {
   "cell_type": "code",
   "execution_count": 11,
   "id": "2dbcd5c3",
   "metadata": {},
   "outputs": [
    {
     "name": "stderr",
     "output_type": "stream",
     "text": [
      "C:\\Users\\Bloczek\\anaconda3\\envs\\tf\\lib\\site-packages\\sklearn\\linear_model\\_coordinate_descent.py:648: ConvergenceWarning: Objective did not converge. You might want to increase the number of iterations, check the scale of the features or consider increasing regularisation. Duality gap: 5.483e+10, tolerance: 4.750e+07\n",
      "  model = cd_fast.enet_coordinate_descent(\n",
      "C:\\Users\\Bloczek\\anaconda3\\envs\\tf\\lib\\site-packages\\sklearn\\linear_model\\_coordinate_descent.py:648: ConvergenceWarning: Objective did not converge. You might want to increase the number of iterations, check the scale of the features or consider increasing regularisation. Duality gap: 5.437e+10, tolerance: 4.708e+07\n",
      "  model = cd_fast.enet_coordinate_descent(\n",
      "C:\\Users\\Bloczek\\anaconda3\\envs\\tf\\lib\\site-packages\\sklearn\\linear_model\\_coordinate_descent.py:648: ConvergenceWarning: Objective did not converge. You might want to increase the number of iterations, check the scale of the features or consider increasing regularisation. Duality gap: 5.420e+10, tolerance: 4.706e+07\n",
      "  model = cd_fast.enet_coordinate_descent(\n",
      "C:\\Users\\Bloczek\\anaconda3\\envs\\tf\\lib\\site-packages\\sklearn\\linear_model\\_coordinate_descent.py:648: ConvergenceWarning: Objective did not converge. You might want to increase the number of iterations, check the scale of the features or consider increasing regularisation. Duality gap: 5.420e+10, tolerance: 4.742e+07\n",
      "  model = cd_fast.enet_coordinate_descent(\n",
      "C:\\Users\\Bloczek\\anaconda3\\envs\\tf\\lib\\site-packages\\sklearn\\linear_model\\_coordinate_descent.py:648: ConvergenceWarning: Objective did not converge. You might want to increase the number of iterations, check the scale of the features or consider increasing regularisation. Duality gap: 5.465e+10, tolerance: 4.756e+07\n",
      "  model = cd_fast.enet_coordinate_descent(\n",
      "C:\\Users\\Bloczek\\anaconda3\\envs\\tf\\lib\\site-packages\\sklearn\\linear_model\\_coordinate_descent.py:648: ConvergenceWarning: Objective did not converge. You might want to increase the number of iterations, check the scale of the features or consider increasing regularisation. Duality gap: 5.061e+10, tolerance: 4.750e+07\n",
      "  model = cd_fast.enet_coordinate_descent(\n",
      "C:\\Users\\Bloczek\\anaconda3\\envs\\tf\\lib\\site-packages\\sklearn\\linear_model\\_coordinate_descent.py:648: ConvergenceWarning: Objective did not converge. You might want to increase the number of iterations, check the scale of the features or consider increasing regularisation. Duality gap: 5.036e+10, tolerance: 4.708e+07\n",
      "  model = cd_fast.enet_coordinate_descent(\n",
      "C:\\Users\\Bloczek\\anaconda3\\envs\\tf\\lib\\site-packages\\sklearn\\linear_model\\_coordinate_descent.py:648: ConvergenceWarning: Objective did not converge. You might want to increase the number of iterations, check the scale of the features or consider increasing regularisation. Duality gap: 4.987e+10, tolerance: 4.706e+07\n",
      "  model = cd_fast.enet_coordinate_descent(\n",
      "C:\\Users\\Bloczek\\anaconda3\\envs\\tf\\lib\\site-packages\\sklearn\\linear_model\\_coordinate_descent.py:648: ConvergenceWarning: Objective did not converge. You might want to increase the number of iterations, check the scale of the features or consider increasing regularisation. Duality gap: 4.987e+10, tolerance: 4.742e+07\n",
      "  model = cd_fast.enet_coordinate_descent(\n",
      "C:\\Users\\Bloczek\\anaconda3\\envs\\tf\\lib\\site-packages\\sklearn\\linear_model\\_coordinate_descent.py:648: ConvergenceWarning: Objective did not converge. You might want to increase the number of iterations, check the scale of the features or consider increasing regularisation. Duality gap: 5.051e+10, tolerance: 4.756e+07\n",
      "  model = cd_fast.enet_coordinate_descent(\n",
      "C:\\Users\\Bloczek\\anaconda3\\envs\\tf\\lib\\site-packages\\sklearn\\linear_model\\_coordinate_descent.py:648: ConvergenceWarning: Objective did not converge. You might want to increase the number of iterations, check the scale of the features or consider increasing regularisation. Duality gap: 5.559e+10, tolerance: 4.750e+07\n",
      "  model = cd_fast.enet_coordinate_descent(\n",
      "C:\\Users\\Bloczek\\anaconda3\\envs\\tf\\lib\\site-packages\\sklearn\\linear_model\\_coordinate_descent.py:648: ConvergenceWarning: Objective did not converge. You might want to increase the number of iterations, check the scale of the features or consider increasing regularisation. Duality gap: 5.514e+10, tolerance: 4.708e+07\n",
      "  model = cd_fast.enet_coordinate_descent(\n",
      "C:\\Users\\Bloczek\\anaconda3\\envs\\tf\\lib\\site-packages\\sklearn\\linear_model\\_coordinate_descent.py:648: ConvergenceWarning: Objective did not converge. You might want to increase the number of iterations, check the scale of the features or consider increasing regularisation. Duality gap: 5.489e+10, tolerance: 4.706e+07\n",
      "  model = cd_fast.enet_coordinate_descent(\n",
      "C:\\Users\\Bloczek\\anaconda3\\envs\\tf\\lib\\site-packages\\sklearn\\linear_model\\_coordinate_descent.py:648: ConvergenceWarning: Objective did not converge. You might want to increase the number of iterations, check the scale of the features or consider increasing regularisation. Duality gap: 5.487e+10, tolerance: 4.742e+07\n",
      "  model = cd_fast.enet_coordinate_descent(\n",
      "C:\\Users\\Bloczek\\anaconda3\\envs\\tf\\lib\\site-packages\\sklearn\\linear_model\\_coordinate_descent.py:648: ConvergenceWarning: Objective did not converge. You might want to increase the number of iterations, check the scale of the features or consider increasing regularisation. Duality gap: 5.538e+10, tolerance: 4.756e+07\n",
      "  model = cd_fast.enet_coordinate_descent(\n",
      "C:\\Users\\Bloczek\\anaconda3\\envs\\tf\\lib\\site-packages\\sklearn\\linear_model\\_coordinate_descent.py:648: ConvergenceWarning: Objective did not converge. You might want to increase the number of iterations, check the scale of the features or consider increasing regularisation. Duality gap: 5.188e+10, tolerance: 4.750e+07\n",
      "  model = cd_fast.enet_coordinate_descent(\n",
      "C:\\Users\\Bloczek\\anaconda3\\envs\\tf\\lib\\site-packages\\sklearn\\linear_model\\_coordinate_descent.py:648: ConvergenceWarning: Objective did not converge. You might want to increase the number of iterations, check the scale of the features or consider increasing regularisation. Duality gap: 5.155e+10, tolerance: 4.708e+07\n",
      "  model = cd_fast.enet_coordinate_descent(\n",
      "C:\\Users\\Bloczek\\anaconda3\\envs\\tf\\lib\\site-packages\\sklearn\\linear_model\\_coordinate_descent.py:648: ConvergenceWarning: Objective did not converge. You might want to increase the number of iterations, check the scale of the features or consider increasing regularisation. Duality gap: 5.106e+10, tolerance: 4.706e+07\n",
      "  model = cd_fast.enet_coordinate_descent(\n",
      "C:\\Users\\Bloczek\\anaconda3\\envs\\tf\\lib\\site-packages\\sklearn\\linear_model\\_coordinate_descent.py:648: ConvergenceWarning: Objective did not converge. You might want to increase the number of iterations, check the scale of the features or consider increasing regularisation. Duality gap: 5.112e+10, tolerance: 4.742e+07\n",
      "  model = cd_fast.enet_coordinate_descent(\n",
      "C:\\Users\\Bloczek\\anaconda3\\envs\\tf\\lib\\site-packages\\sklearn\\linear_model\\_coordinate_descent.py:648: ConvergenceWarning: Objective did not converge. You might want to increase the number of iterations, check the scale of the features or consider increasing regularisation. Duality gap: 5.172e+10, tolerance: 4.756e+07\n",
      "  model = cd_fast.enet_coordinate_descent(\n",
      "C:\\Users\\Bloczek\\anaconda3\\envs\\tf\\lib\\site-packages\\sklearn\\linear_model\\_coordinate_descent.py:648: ConvergenceWarning: Objective did not converge. You might want to increase the number of iterations, check the scale of the features or consider increasing regularisation. Duality gap: 5.695e+10, tolerance: 4.750e+07\n",
      "  model = cd_fast.enet_coordinate_descent(\n",
      "C:\\Users\\Bloczek\\anaconda3\\envs\\tf\\lib\\site-packages\\sklearn\\linear_model\\_coordinate_descent.py:648: ConvergenceWarning: Objective did not converge. You might want to increase the number of iterations, check the scale of the features or consider increasing regularisation. Duality gap: 5.651e+10, tolerance: 4.708e+07\n",
      "  model = cd_fast.enet_coordinate_descent(\n",
      "C:\\Users\\Bloczek\\anaconda3\\envs\\tf\\lib\\site-packages\\sklearn\\linear_model\\_coordinate_descent.py:648: ConvergenceWarning: Objective did not converge. You might want to increase the number of iterations, check the scale of the features or consider increasing regularisation. Duality gap: 5.625e+10, tolerance: 4.706e+07\n",
      "  model = cd_fast.enet_coordinate_descent(\n"
     ]
    },
    {
     "name": "stderr",
     "output_type": "stream",
     "text": [
      "C:\\Users\\Bloczek\\anaconda3\\envs\\tf\\lib\\site-packages\\sklearn\\linear_model\\_coordinate_descent.py:648: ConvergenceWarning: Objective did not converge. You might want to increase the number of iterations, check the scale of the features or consider increasing regularisation. Duality gap: 5.616e+10, tolerance: 4.742e+07\n",
      "  model = cd_fast.enet_coordinate_descent(\n",
      "C:\\Users\\Bloczek\\anaconda3\\envs\\tf\\lib\\site-packages\\sklearn\\linear_model\\_coordinate_descent.py:648: ConvergenceWarning: Objective did not converge. You might want to increase the number of iterations, check the scale of the features or consider increasing regularisation. Duality gap: 5.667e+10, tolerance: 4.756e+07\n",
      "  model = cd_fast.enet_coordinate_descent(\n",
      "C:\\Users\\Bloczek\\anaconda3\\envs\\tf\\lib\\site-packages\\sklearn\\linear_model\\_coordinate_descent.py:648: ConvergenceWarning: Objective did not converge. You might want to increase the number of iterations, check the scale of the features or consider increasing regularisation. Duality gap: 5.287e+10, tolerance: 4.750e+07\n",
      "  model = cd_fast.enet_coordinate_descent(\n",
      "C:\\Users\\Bloczek\\anaconda3\\envs\\tf\\lib\\site-packages\\sklearn\\linear_model\\_coordinate_descent.py:648: ConvergenceWarning: Objective did not converge. You might want to increase the number of iterations, check the scale of the features or consider increasing regularisation. Duality gap: 5.252e+10, tolerance: 4.708e+07\n",
      "  model = cd_fast.enet_coordinate_descent(\n",
      "C:\\Users\\Bloczek\\anaconda3\\envs\\tf\\lib\\site-packages\\sklearn\\linear_model\\_coordinate_descent.py:648: ConvergenceWarning: Objective did not converge. You might want to increase the number of iterations, check the scale of the features or consider increasing regularisation. Duality gap: 5.212e+10, tolerance: 4.706e+07\n",
      "  model = cd_fast.enet_coordinate_descent(\n",
      "C:\\Users\\Bloczek\\anaconda3\\envs\\tf\\lib\\site-packages\\sklearn\\linear_model\\_coordinate_descent.py:648: ConvergenceWarning: Objective did not converge. You might want to increase the number of iterations, check the scale of the features or consider increasing regularisation. Duality gap: 5.226e+10, tolerance: 4.742e+07\n",
      "  model = cd_fast.enet_coordinate_descent(\n",
      "C:\\Users\\Bloczek\\anaconda3\\envs\\tf\\lib\\site-packages\\sklearn\\linear_model\\_coordinate_descent.py:648: ConvergenceWarning: Objective did not converge. You might want to increase the number of iterations, check the scale of the features or consider increasing regularisation. Duality gap: 5.276e+10, tolerance: 4.756e+07\n",
      "  model = cd_fast.enet_coordinate_descent(\n"
     ]
    },
    {
     "name": "stdout",
     "output_type": "stream",
     "text": [
      "2227.2239566000007\n",
      "Stored 'grid_3' (GridSearchCV)\n"
     ]
    },
    {
     "name": "stderr",
     "output_type": "stream",
     "text": [
      "C:\\Users\\Bloczek\\anaconda3\\envs\\tf\\lib\\site-packages\\sklearn\\linear_model\\_coordinate_descent.py:648: ConvergenceWarning: Objective did not converge. You might want to increase the number of iterations, check the scale of the features or consider increasing regularisation. Duality gap: 6.906e+10, tolerance: 5.915e+07\n",
      "  model = cd_fast.enet_coordinate_descent(\n"
     ]
    }
   ],
   "source": [
    "start = timer()\n",
    "grid_3 = GridSearchCV(make_pipeline(PolynomialFeatures(degree=2), Lasso(alpha=1, random_state=seed)),\n",
    "                    param_grid={'polynomialfeatures__degree': [1, 2, 3],\n",
    "                    'lasso__alpha': [1000,10000,100000]},\n",
    "                    cv=kfold,\n",
    "                    refit=True)\n",
    "grid_3.fit(X_train, y_train)\n",
    "end = timer()\n",
    "print(end - start)\n",
    "%store grid_3"
   ]
  },
  {
   "cell_type": "code",
   "execution_count": 12,
   "id": "0bbec602",
   "metadata": {},
   "outputs": [
    {
     "name": "stderr",
     "output_type": "stream",
     "text": [
      "C:\\Users\\Bloczek\\anaconda3\\envs\\tf\\lib\\site-packages\\sklearn\\linear_model\\_coordinate_descent.py:648: ConvergenceWarning: Objective did not converge. You might want to increase the number of iterations, check the scale of the features or consider increasing regularisation. Duality gap: 5.474e+10, tolerance: 4.750e+07\n",
      "  model = cd_fast.enet_coordinate_descent(\n",
      "C:\\Users\\Bloczek\\anaconda3\\envs\\tf\\lib\\site-packages\\sklearn\\linear_model\\_coordinate_descent.py:648: ConvergenceWarning: Objective did not converge. You might want to increase the number of iterations, check the scale of the features or consider increasing regularisation. Duality gap: 5.429e+10, tolerance: 4.708e+07\n",
      "  model = cd_fast.enet_coordinate_descent(\n",
      "C:\\Users\\Bloczek\\anaconda3\\envs\\tf\\lib\\site-packages\\sklearn\\linear_model\\_coordinate_descent.py:648: ConvergenceWarning: Objective did not converge. You might want to increase the number of iterations, check the scale of the features or consider increasing regularisation. Duality gap: 5.412e+10, tolerance: 4.706e+07\n",
      "  model = cd_fast.enet_coordinate_descent(\n",
      "C:\\Users\\Bloczek\\anaconda3\\envs\\tf\\lib\\site-packages\\sklearn\\linear_model\\_coordinate_descent.py:648: ConvergenceWarning: Objective did not converge. You might want to increase the number of iterations, check the scale of the features or consider increasing regularisation. Duality gap: 5.412e+10, tolerance: 4.742e+07\n",
      "  model = cd_fast.enet_coordinate_descent(\n",
      "C:\\Users\\Bloczek\\anaconda3\\envs\\tf\\lib\\site-packages\\sklearn\\linear_model\\_coordinate_descent.py:648: ConvergenceWarning: Objective did not converge. You might want to increase the number of iterations, check the scale of the features or consider increasing regularisation. Duality gap: 5.456e+10, tolerance: 4.756e+07\n",
      "  model = cd_fast.enet_coordinate_descent(\n",
      "C:\\Users\\Bloczek\\anaconda3\\envs\\tf\\lib\\site-packages\\sklearn\\linear_model\\_coordinate_descent.py:648: ConvergenceWarning: Objective did not converge. You might want to increase the number of iterations, check the scale of the features or consider increasing regularisation. Duality gap: 5.029e+10, tolerance: 4.750e+07\n",
      "  model = cd_fast.enet_coordinate_descent(\n",
      "C:\\Users\\Bloczek\\anaconda3\\envs\\tf\\lib\\site-packages\\sklearn\\linear_model\\_coordinate_descent.py:648: ConvergenceWarning: Objective did not converge. You might want to increase the number of iterations, check the scale of the features or consider increasing regularisation. Duality gap: 5.007e+10, tolerance: 4.708e+07\n",
      "  model = cd_fast.enet_coordinate_descent(\n",
      "C:\\Users\\Bloczek\\anaconda3\\envs\\tf\\lib\\site-packages\\sklearn\\linear_model\\_coordinate_descent.py:648: ConvergenceWarning: Objective did not converge. You might want to increase the number of iterations, check the scale of the features or consider increasing regularisation. Duality gap: 4.957e+10, tolerance: 4.706e+07\n",
      "  model = cd_fast.enet_coordinate_descent(\n",
      "C:\\Users\\Bloczek\\anaconda3\\envs\\tf\\lib\\site-packages\\sklearn\\linear_model\\_coordinate_descent.py:648: ConvergenceWarning: Objective did not converge. You might want to increase the number of iterations, check the scale of the features or consider increasing regularisation. Duality gap: 4.957e+10, tolerance: 4.742e+07\n",
      "  model = cd_fast.enet_coordinate_descent(\n",
      "C:\\Users\\Bloczek\\anaconda3\\envs\\tf\\lib\\site-packages\\sklearn\\linear_model\\_coordinate_descent.py:648: ConvergenceWarning: Objective did not converge. You might want to increase the number of iterations, check the scale of the features or consider increasing regularisation. Duality gap: 5.020e+10, tolerance: 4.756e+07\n",
      "  model = cd_fast.enet_coordinate_descent(\n",
      "C:\\Users\\Bloczek\\anaconda3\\envs\\tf\\lib\\site-packages\\sklearn\\linear_model\\_coordinate_descent.py:648: ConvergenceWarning: Objective did not converge. You might want to increase the number of iterations, check the scale of the features or consider increasing regularisation. Duality gap: 5.532e+10, tolerance: 4.750e+07\n",
      "  model = cd_fast.enet_coordinate_descent(\n",
      "C:\\Users\\Bloczek\\anaconda3\\envs\\tf\\lib\\site-packages\\sklearn\\linear_model\\_coordinate_descent.py:648: ConvergenceWarning: Objective did not converge. You might want to increase the number of iterations, check the scale of the features or consider increasing regularisation. Duality gap: 5.486e+10, tolerance: 4.708e+07\n",
      "  model = cd_fast.enet_coordinate_descent(\n",
      "C:\\Users\\Bloczek\\anaconda3\\envs\\tf\\lib\\site-packages\\sklearn\\linear_model\\_coordinate_descent.py:648: ConvergenceWarning: Objective did not converge. You might want to increase the number of iterations, check the scale of the features or consider increasing regularisation. Duality gap: 5.465e+10, tolerance: 4.706e+07\n",
      "  model = cd_fast.enet_coordinate_descent(\n",
      "C:\\Users\\Bloczek\\anaconda3\\envs\\tf\\lib\\site-packages\\sklearn\\linear_model\\_coordinate_descent.py:648: ConvergenceWarning: Objective did not converge. You might want to increase the number of iterations, check the scale of the features or consider increasing regularisation. Duality gap: 5.464e+10, tolerance: 4.742e+07\n",
      "  model = cd_fast.enet_coordinate_descent(\n",
      "C:\\Users\\Bloczek\\anaconda3\\envs\\tf\\lib\\site-packages\\sklearn\\linear_model\\_coordinate_descent.py:648: ConvergenceWarning: Objective did not converge. You might want to increase the number of iterations, check the scale of the features or consider increasing regularisation. Duality gap: 5.513e+10, tolerance: 4.756e+07\n",
      "  model = cd_fast.enet_coordinate_descent(\n",
      "C:\\Users\\Bloczek\\anaconda3\\envs\\tf\\lib\\site-packages\\sklearn\\linear_model\\_coordinate_descent.py:648: ConvergenceWarning: Objective did not converge. You might want to increase the number of iterations, check the scale of the features or consider increasing regularisation. Duality gap: 5.148e+10, tolerance: 4.750e+07\n",
      "  model = cd_fast.enet_coordinate_descent(\n",
      "C:\\Users\\Bloczek\\anaconda3\\envs\\tf\\lib\\site-packages\\sklearn\\linear_model\\_coordinate_descent.py:648: ConvergenceWarning: Objective did not converge. You might want to increase the number of iterations, check the scale of the features or consider increasing regularisation. Duality gap: 5.117e+10, tolerance: 4.708e+07\n",
      "  model = cd_fast.enet_coordinate_descent(\n",
      "C:\\Users\\Bloczek\\anaconda3\\envs\\tf\\lib\\site-packages\\sklearn\\linear_model\\_coordinate_descent.py:648: ConvergenceWarning: Objective did not converge. You might want to increase the number of iterations, check the scale of the features or consider increasing regularisation. Duality gap: 5.067e+10, tolerance: 4.706e+07\n",
      "  model = cd_fast.enet_coordinate_descent(\n",
      "C:\\Users\\Bloczek\\anaconda3\\envs\\tf\\lib\\site-packages\\sklearn\\linear_model\\_coordinate_descent.py:648: ConvergenceWarning: Objective did not converge. You might want to increase the number of iterations, check the scale of the features or consider increasing regularisation. Duality gap: 5.073e+10, tolerance: 4.742e+07\n",
      "  model = cd_fast.enet_coordinate_descent(\n",
      "C:\\Users\\Bloczek\\anaconda3\\envs\\tf\\lib\\site-packages\\sklearn\\linear_model\\_coordinate_descent.py:648: ConvergenceWarning: Objective did not converge. You might want to increase the number of iterations, check the scale of the features or consider increasing regularisation. Duality gap: 5.134e+10, tolerance: 4.756e+07\n",
      "  model = cd_fast.enet_coordinate_descent(\n",
      "C:\\Users\\Bloczek\\anaconda3\\envs\\tf\\lib\\site-packages\\sklearn\\linear_model\\_coordinate_descent.py:648: ConvergenceWarning: Objective did not converge. You might want to increase the number of iterations, check the scale of the features or consider increasing regularisation. Duality gap: 5.659e+10, tolerance: 4.750e+07\n",
      "  model = cd_fast.enet_coordinate_descent(\n",
      "C:\\Users\\Bloczek\\anaconda3\\envs\\tf\\lib\\site-packages\\sklearn\\linear_model\\_coordinate_descent.py:648: ConvergenceWarning: Objective did not converge. You might want to increase the number of iterations, check the scale of the features or consider increasing regularisation. Duality gap: 5.615e+10, tolerance: 4.708e+07\n",
      "  model = cd_fast.enet_coordinate_descent(\n",
      "C:\\Users\\Bloczek\\anaconda3\\envs\\tf\\lib\\site-packages\\sklearn\\linear_model\\_coordinate_descent.py:648: ConvergenceWarning: Objective did not converge. You might want to increase the number of iterations, check the scale of the features or consider increasing regularisation. Duality gap: 5.591e+10, tolerance: 4.706e+07\n",
      "  model = cd_fast.enet_coordinate_descent(\n"
     ]
    },
    {
     "name": "stderr",
     "output_type": "stream",
     "text": [
      "C:\\Users\\Bloczek\\anaconda3\\envs\\tf\\lib\\site-packages\\sklearn\\linear_model\\_coordinate_descent.py:648: ConvergenceWarning: Objective did not converge. You might want to increase the number of iterations, check the scale of the features or consider increasing regularisation. Duality gap: 5.582e+10, tolerance: 4.742e+07\n",
      "  model = cd_fast.enet_coordinate_descent(\n",
      "C:\\Users\\Bloczek\\anaconda3\\envs\\tf\\lib\\site-packages\\sklearn\\linear_model\\_coordinate_descent.py:648: ConvergenceWarning: Objective did not converge. You might want to increase the number of iterations, check the scale of the features or consider increasing regularisation. Duality gap: 5.634e+10, tolerance: 4.756e+07\n",
      "  model = cd_fast.enet_coordinate_descent(\n",
      "C:\\Users\\Bloczek\\anaconda3\\envs\\tf\\lib\\site-packages\\sklearn\\linear_model\\_coordinate_descent.py:648: ConvergenceWarning: Objective did not converge. You might want to increase the number of iterations, check the scale of the features or consider increasing regularisation. Duality gap: 5.254e+10, tolerance: 4.750e+07\n",
      "  model = cd_fast.enet_coordinate_descent(\n",
      "C:\\Users\\Bloczek\\anaconda3\\envs\\tf\\lib\\site-packages\\sklearn\\linear_model\\_coordinate_descent.py:648: ConvergenceWarning: Objective did not converge. You might want to increase the number of iterations, check the scale of the features or consider increasing regularisation. Duality gap: 5.219e+10, tolerance: 4.708e+07\n",
      "  model = cd_fast.enet_coordinate_descent(\n",
      "C:\\Users\\Bloczek\\anaconda3\\envs\\tf\\lib\\site-packages\\sklearn\\linear_model\\_coordinate_descent.py:648: ConvergenceWarning: Objective did not converge. You might want to increase the number of iterations, check the scale of the features or consider increasing regularisation. Duality gap: 5.176e+10, tolerance: 4.706e+07\n",
      "  model = cd_fast.enet_coordinate_descent(\n",
      "C:\\Users\\Bloczek\\anaconda3\\envs\\tf\\lib\\site-packages\\sklearn\\linear_model\\_coordinate_descent.py:648: ConvergenceWarning: Objective did not converge. You might want to increase the number of iterations, check the scale of the features or consider increasing regularisation. Duality gap: 5.190e+10, tolerance: 4.742e+07\n",
      "  model = cd_fast.enet_coordinate_descent(\n",
      "C:\\Users\\Bloczek\\anaconda3\\envs\\tf\\lib\\site-packages\\sklearn\\linear_model\\_coordinate_descent.py:648: ConvergenceWarning: Objective did not converge. You might want to increase the number of iterations, check the scale of the features or consider increasing regularisation. Duality gap: 5.241e+10, tolerance: 4.756e+07\n",
      "  model = cd_fast.enet_coordinate_descent(\n"
     ]
    },
    {
     "name": "stdout",
     "output_type": "stream",
     "text": [
      "2297.6446252000023\n",
      "Stored 'grid_4' (GridSearchCV)\n"
     ]
    },
    {
     "name": "stderr",
     "output_type": "stream",
     "text": [
      "C:\\Users\\Bloczek\\anaconda3\\envs\\tf\\lib\\site-packages\\sklearn\\linear_model\\_coordinate_descent.py:648: ConvergenceWarning: Objective did not converge. You might want to increase the number of iterations, check the scale of the features or consider increasing regularisation. Duality gap: 6.876e+10, tolerance: 5.915e+07\n",
      "  model = cd_fast.enet_coordinate_descent(\n"
     ]
    }
   ],
   "source": [
    "start = timer()\n",
    "grid_4 = GridSearchCV(make_pipeline(PolynomialFeatures(degree=2), ElasticNet(alpha=1, random_state=seed)),\n",
    "                    param_grid={'polynomialfeatures__degree': [1, 2, 3],\n",
    "                    'elasticnet__alpha': [1000,10000,100000]},\n",
    "                    cv=kfold,\n",
    "                    refit=True)\n",
    "grid_4.fit(X_train, y_train)\n",
    "end = timer()\n",
    "print(end - start)\n",
    "%store grid_4"
   ]
  },
  {
   "cell_type": "code",
   "execution_count": 11,
   "id": "af61912b",
   "metadata": {},
   "outputs": [
    {
     "name": "stdout",
     "output_type": "stream",
     "text": [
      "Stored 'grid_5' (GridSearchCV)\n"
     ]
    }
   ],
   "source": [
    "grid_5 = GridSearchCV(SVR(kernel='rbf', gamma=0.1),\n",
    "                   param_grid={\"C\": [10000,100000,1000000],\n",
    "                               \"gamma\": [1e-09,1e-08,1e-07]},\n",
    "                               cv=kfold,\n",
    "                               refit=True)\n",
    "grid_5.fit(X_train, y_train)\n",
    "%store grid_5"
   ]
  },
  {
   "cell_type": "code",
   "execution_count": 10,
   "id": "653d2979",
   "metadata": {},
   "outputs": [
    {
     "name": "stdout",
     "output_type": "stream",
     "text": [
      "Stored 'grid_6' (GridSearchCV)\n"
     ]
    }
   ],
   "source": [
    "grid_6 = GridSearchCV(RandomForestRegressor(max_depth=10,max_features=1,n_estimators=100,random_state=3),\n",
    "                   param_grid={\"max_depth\": [10 ,100,1000],\n",
    "                               \"n_estimators\": [100,300,1000],\n",
    "                               \"max_features\":['auto']},\n",
    "                               cv=kfold,\n",
    "                               refit=True)\n",
    "grid_6.fit(X_train, y_train)\n",
    "%store grid_6"
   ]
  },
  {
   "cell_type": "code",
   "execution_count": 14,
   "id": "2abf459f",
   "metadata": {},
   "outputs": [
    {
     "name": "stderr",
     "output_type": "stream",
     "text": [
      "C:\\Users\\Bloczek\\anaconda3\\envs\\tf\\lib\\site-packages\\sklearn\\base.py:329: UserWarning: Trying to unpickle estimator SVR from version 0.24.2 when using version 1.1.0. This might lead to breaking code or invalid results. Use at your own risk. For more info please refer to:\n",
      "https://scikit-learn.org/stable/modules/model_persistence.html#security-maintainability-limitations\n",
      "  warnings.warn(\n",
      "C:\\Users\\Bloczek\\anaconda3\\envs\\tf\\lib\\site-packages\\sklearn\\base.py:329: UserWarning: Trying to unpickle estimator GridSearchCV from version 0.24.2 when using version 1.1.0. This might lead to breaking code or invalid results. Use at your own risk. For more info please refer to:\n",
      "https://scikit-learn.org/stable/modules/model_persistence.html#security-maintainability-limitations\n",
      "  warnings.warn(\n",
      "C:\\Users\\Bloczek\\anaconda3\\envs\\tf\\lib\\site-packages\\sklearn\\base.py:329: UserWarning: Trying to unpickle estimator DecisionTreeRegressor from version 0.24.2 when using version 1.1.0. This might lead to breaking code or invalid results. Use at your own risk. For more info please refer to:\n",
      "https://scikit-learn.org/stable/modules/model_persistence.html#security-maintainability-limitations\n",
      "  warnings.warn(\n",
      "C:\\Users\\Bloczek\\anaconda3\\envs\\tf\\lib\\site-packages\\sklearn\\base.py:329: UserWarning: Trying to unpickle estimator RandomForestRegressor from version 0.24.2 when using version 1.1.0. This might lead to breaking code or invalid results. Use at your own risk. For more info please refer to:\n",
      "https://scikit-learn.org/stable/modules/model_persistence.html#security-maintainability-limitations\n",
      "  warnings.warn(\n"
     ]
    }
   ],
   "source": [
    "%store -r grid_1\n",
    "%store -r grid_2\n",
    "%store -r grid_3\n",
    "%store -r grid_4\n",
    "%store -r grid_5\n",
    "%store -r grid_6"
   ]
  },
  {
   "cell_type": "code",
   "execution_count": 18,
   "id": "1b8ae7fa",
   "metadata": {},
   "outputs": [
    {
     "name": "stdout",
     "output_type": "stream",
     "text": [
      "{'polynomialfeatures__degree': 1}\n",
      "{'polynomialfeatures__degree': 1, 'ridge__alpha': 10}\n",
      "{'lasso__alpha': 10000, 'polynomialfeatures__degree': 2}\n",
      "{'elasticnet__alpha': 10000, 'polynomialfeatures__degree': 2}\n",
      "{'C': 1000000, 'gamma': 1e-09}\n",
      "{'max_depth': 100, 'max_features': 'auto', 'n_estimators': 1000}\n"
     ]
    }
   ],
   "source": [
    "print(grid_1.best_params_)\n",
    "print(grid_2.best_params_)\n",
    "print(grid_3.best_params_)\n",
    "print(grid_4.best_params_)\n",
    "print(grid_5.best_params_)\n",
    "print(grid_6.best_params_)"
   ]
  },
  {
   "cell_type": "code",
   "execution_count": 17,
   "id": "3776bccf",
   "metadata": {},
   "outputs": [
    {
     "name": "stderr",
     "output_type": "stream",
     "text": [
      "C:\\Users\\Bloczek\\anaconda3\\envs\\tf\\lib\\site-packages\\sklearn\\base.py:443: UserWarning: X has feature names, but SVR was fitted without feature names\n",
      "  warnings.warn(\n",
      "C:\\Users\\Bloczek\\anaconda3\\envs\\tf\\lib\\site-packages\\sklearn\\base.py:443: UserWarning: X has feature names, but SVR was fitted without feature names\n",
      "  warnings.warn(\n",
      "C:\\Users\\Bloczek\\anaconda3\\envs\\tf\\lib\\site-packages\\sklearn\\base.py:443: UserWarning: X has feature names, but SVR was fitted without feature names\n",
      "  warnings.warn(\n",
      "C:\\Users\\Bloczek\\anaconda3\\envs\\tf\\lib\\site-packages\\sklearn\\base.py:443: UserWarning: X has feature names, but SVR was fitted without feature names\n",
      "  warnings.warn(\n",
      "C:\\Users\\Bloczek\\anaconda3\\envs\\tf\\lib\\site-packages\\sklearn\\base.py:443: UserWarning: X has feature names, but SVR was fitted without feature names\n",
      "  warnings.warn(\n",
      "C:\\Users\\Bloczek\\anaconda3\\envs\\tf\\lib\\site-packages\\sklearn\\base.py:443: UserWarning: X has feature names, but RandomForestRegressor was fitted without feature names\n",
      "  warnings.warn(\n",
      "C:\\Users\\Bloczek\\anaconda3\\envs\\tf\\lib\\site-packages\\sklearn\\base.py:443: UserWarning: X has feature names, but RandomForestRegressor was fitted without feature names\n",
      "  warnings.warn(\n",
      "C:\\Users\\Bloczek\\anaconda3\\envs\\tf\\lib\\site-packages\\sklearn\\base.py:443: UserWarning: X has feature names, but RandomForestRegressor was fitted without feature names\n",
      "  warnings.warn(\n",
      "C:\\Users\\Bloczek\\anaconda3\\envs\\tf\\lib\\site-packages\\sklearn\\base.py:443: UserWarning: X has feature names, but RandomForestRegressor was fitted without feature names\n",
      "  warnings.warn(\n",
      "C:\\Users\\Bloczek\\anaconda3\\envs\\tf\\lib\\site-packages\\sklearn\\base.py:443: UserWarning: X has feature names, but RandomForestRegressor was fitted without feature names\n",
      "  warnings.warn(\n"
     ]
    },
    {
     "name": "stdout",
     "output_type": "stream",
     "text": [
      "    Method        r2  expl_var_score  med_abs_err  mean_sqr_err  mean_abs_err\n",
      "0       LR  0.764808        0.764810  1743.223850  6.932181e+06   2082.208294\n",
      "1    Ridge  0.764788        0.764791  1741.791668  6.932746e+06   2082.412655\n",
      "2    Lasso  0.767475        0.767475  1723.000148  6.853548e+06   2069.878604\n",
      "3  ElasNet  0.767853        0.767853  1716.940926  6.842423e+06   2067.932721\n",
      "4      SVR  0.759938        0.759949  1775.046549  7.075704e+06   2104.855763\n",
      "5      RFR  0.747987        0.747991  1785.527000  7.427947e+06   2142.258640\n"
     ]
    }
   ],
   "source": [
    "models = []\n",
    "models.append(grid_1.best_estimator_)\n",
    "models.append(grid_2.best_estimator_)\n",
    "models.append(grid_3.best_estimator_)\n",
    "models.append(grid_4.best_estimator_)\n",
    "models.append(grid_5.best_estimator_)\n",
    "models.append(grid_6.best_estimator_)\n",
    "r2 = []\n",
    "explained_variance_score = []\n",
    "median_absolute_error = []\n",
    "mean_squared_error = []\n",
    "mean_absolute_error = []\n",
    "for model in models:\n",
    "    r2.append(metrics.r2_score(y_test, model.predict(X_test)))\n",
    "    explained_variance_score.append(metrics.explained_variance_score(y_test, model.predict(X_test)))\n",
    "    median_absolute_error.append( metrics.median_absolute_error(y_test, model.predict(X_test)))\n",
    "    mean_squared_error.append(metrics.mean_squared_error(y_test, model.predict(X_test)))\n",
    "    mean_absolute_error.append(metrics.mean_absolute_error(y_test, model.predict(X_test)))\n",
    "d = {'r2': r2, \n",
    "     'expl_var_score': explained_variance_score, \n",
    "     'med_abs_err': median_absolute_error,\n",
    "     'mean_sqr_err' : mean_squared_error,\n",
    "     'mean_abs_err' : mean_absolute_error,\n",
    "    }\n",
    "dfwynik = pd.DataFrame(data=d)\n",
    "dfwynik.insert(loc=0, column='Method', value=['LR','Ridge','Lasso','ElasNet','SVR','RFR'])\n",
    "print (dfwynik)"
   ]
  },
  {
   "cell_type": "code",
   "execution_count": null,
   "id": "76955c66",
   "metadata": {},
   "outputs": [],
   "source": []
  },
  {
   "cell_type": "code",
   "execution_count": null,
   "id": "fbebe2fe",
   "metadata": {},
   "outputs": [],
   "source": []
  }
 ],
 "metadata": {
  "kernelspec": {
   "display_name": "Python 3 (ipykernel)",
   "language": "python",
   "name": "python3"
  },
  "language_info": {
   "codemirror_mode": {
    "name": "ipython",
    "version": 3
   },
   "file_extension": ".py",
   "mimetype": "text/x-python",
   "name": "python",
   "nbconvert_exporter": "python",
   "pygments_lexer": "ipython3",
   "version": "3.9.12"
  }
 },
 "nbformat": 4,
 "nbformat_minor": 5
}
